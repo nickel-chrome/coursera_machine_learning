{
  "nbformat": 4,
  "nbformat_minor": 0,
  "metadata": {
    "colab": {
      "name": "Coursera ML ex2 Logistic Regression.ipynb",
      "provenance": [],
      "collapsed_sections": [],
      "authorship_tag": "ABX9TyMC+zcorC8bzeFrRkGmjo0f"
    },
    "kernelspec": {
      "name": "python3",
      "display_name": "Python 3"
    }
  },
  "cells": [
    {
      "cell_type": "markdown",
      "metadata": {
        "id": "W1kxeRuQBIyw",
        "colab_type": "text"
      },
      "source": [
        "# Setup"
      ]
    },
    {
      "cell_type": "markdown",
      "metadata": {
        "id": "Yfldr63g3zOt",
        "colab_type": "text"
      },
      "source": [
        "Initialise python libraries"
      ]
    },
    {
      "cell_type": "code",
      "metadata": {
        "id": "tp1NTJPA0_7Y",
        "colab_type": "code",
        "colab": {
          "base_uri": "https://localhost:8080/",
          "height": 34
        },
        "outputId": "9dc075d2-3bce-4c64-c9d6-59534a4a2e63"
      },
      "source": [
        "import os\n",
        "import numpy as np\n",
        "import pandas as pd\n",
        "\n",
        "import matplotlib.pyplot as plt\n",
        "%matplotlib inline\n",
        "\n",
        "import seaborn as sns\n",
        "\n",
        "from google.colab import drive\n",
        "from pathlib import Path\n",
        "\n",
        "print(\"numpy: \", np.version.version);"
      ],
      "execution_count": null,
      "outputs": [
        {
          "output_type": "stream",
          "text": [
            "numpy:  1.18.5\n"
          ],
          "name": "stdout"
        }
      ]
    },
    {
      "cell_type": "markdown",
      "metadata": {
        "id": "6jfWECs7Ap-y",
        "colab_type": "text"
      },
      "source": [
        "Mount Google Drive"
      ]
    },
    {
      "cell_type": "code",
      "metadata": {
        "id": "tCVNnpBgAuH5",
        "colab_type": "code",
        "colab": {}
      },
      "source": [
        "#drive_home = Path('/content/drive')\n",
        "#if (not drive_home.is_dir()):\n",
        "#  drive.mount(str(drive_home))\n",
        "#\n",
        "#data_home = drive_home / 'My Drive/study/machine-learning/machine-learning-ex2/ex2'\n",
        "#data_path = data_home / 'ex2data1.txt'"
      ],
      "execution_count": null,
      "outputs": []
    },
    {
      "cell_type": "code",
      "metadata": {
        "id": "DUWQqbKO5k0i",
        "colab_type": "code",
        "colab": {}
      },
      "source": [
        "# Install PyDrive\n",
        "!pip install -U -q PyDrive\n",
        "from pydrive.auth import GoogleAuth\n",
        "from pydrive.drive import GoogleDrive\n",
        "from google.colab import auth\n",
        "from oauth2client.client import GoogleCredentials\n",
        "\n",
        "# Authenticate and create the PyDrive client.\n",
        "auth.authenticate_user()\n",
        "gauth = GoogleAuth()\n",
        "gauth.credentials = GoogleCredentials.get_application_default()\n",
        "drive = GoogleDrive(gauth)\n",
        "\n",
        "# Import extdata1.txt file\n",
        "data_id = '1p1opAPO5BgrzB_b-mquHJt3CnHs7D0Pk'\n",
        "data_path = 'ex2data1.txt'\n",
        "downloaded = drive.CreateFile({'id':data_id})\n",
        "downloaded.GetContentFile(data_path)"
      ],
      "execution_count": null,
      "outputs": []
    },
    {
      "cell_type": "markdown",
      "metadata": {
        "id": "GhD0co1ZAjlI",
        "colab_type": "text"
      },
      "source": [
        "# Load data"
      ]
    },
    {
      "cell_type": "markdown",
      "metadata": {
        "id": "Xjg9g1f036nf",
        "colab_type": "text"
      },
      "source": [
        "Load and inspect data"
      ]
    },
    {
      "cell_type": "code",
      "metadata": {
        "id": "7cn6BWl139Sr",
        "colab_type": "code",
        "colab": {
          "base_uri": "https://localhost:8080/",
          "height": 204
        },
        "outputId": "93da0cfb-cc2f-46a8-c45c-29219dd75f9d"
      },
      "source": [
        "data = pd.read_csv(data_path, header=None, names=['Exam 1 score', 'Exam 2 score', 'Admitted'])\n",
        "data.head()"
      ],
      "execution_count": null,
      "outputs": [
        {
          "output_type": "execute_result",
          "data": {
            "text/html": [
              "<div>\n",
              "<style scoped>\n",
              "    .dataframe tbody tr th:only-of-type {\n",
              "        vertical-align: middle;\n",
              "    }\n",
              "\n",
              "    .dataframe tbody tr th {\n",
              "        vertical-align: top;\n",
              "    }\n",
              "\n",
              "    .dataframe thead th {\n",
              "        text-align: right;\n",
              "    }\n",
              "</style>\n",
              "<table border=\"1\" class=\"dataframe\">\n",
              "  <thead>\n",
              "    <tr style=\"text-align: right;\">\n",
              "      <th></th>\n",
              "      <th>Exam 1 score</th>\n",
              "      <th>Exam 2 score</th>\n",
              "      <th>Admitted</th>\n",
              "    </tr>\n",
              "  </thead>\n",
              "  <tbody>\n",
              "    <tr>\n",
              "      <th>0</th>\n",
              "      <td>34.623660</td>\n",
              "      <td>78.024693</td>\n",
              "      <td>0</td>\n",
              "    </tr>\n",
              "    <tr>\n",
              "      <th>1</th>\n",
              "      <td>30.286711</td>\n",
              "      <td>43.894998</td>\n",
              "      <td>0</td>\n",
              "    </tr>\n",
              "    <tr>\n",
              "      <th>2</th>\n",
              "      <td>35.847409</td>\n",
              "      <td>72.902198</td>\n",
              "      <td>0</td>\n",
              "    </tr>\n",
              "    <tr>\n",
              "      <th>3</th>\n",
              "      <td>60.182599</td>\n",
              "      <td>86.308552</td>\n",
              "      <td>1</td>\n",
              "    </tr>\n",
              "    <tr>\n",
              "      <th>4</th>\n",
              "      <td>79.032736</td>\n",
              "      <td>75.344376</td>\n",
              "      <td>1</td>\n",
              "    </tr>\n",
              "  </tbody>\n",
              "</table>\n",
              "</div>"
            ],
            "text/plain": [
              "   Exam 1 score  Exam 2 score  Admitted\n",
              "0     34.623660     78.024693         0\n",
              "1     30.286711     43.894998         0\n",
              "2     35.847409     72.902198         0\n",
              "3     60.182599     86.308552         1\n",
              "4     79.032736     75.344376         1"
            ]
          },
          "metadata": {
            "tags": []
          },
          "execution_count": 40
        }
      ]
    },
    {
      "cell_type": "markdown",
      "metadata": {
        "id": "9iukRNzI_Dv6",
        "colab_type": "text"
      },
      "source": [
        "Describe data"
      ]
    },
    {
      "cell_type": "code",
      "metadata": {
        "id": "ZDhQfb4e_Gfc",
        "colab_type": "code",
        "colab": {
          "base_uri": "https://localhost:8080/",
          "height": 297
        },
        "outputId": "8820a8e7-d83e-42b5-8bd9-ba3b2f24cc45"
      },
      "source": [
        "data.describe()"
      ],
      "execution_count": null,
      "outputs": [
        {
          "output_type": "execute_result",
          "data": {
            "text/html": [
              "<div>\n",
              "<style scoped>\n",
              "    .dataframe tbody tr th:only-of-type {\n",
              "        vertical-align: middle;\n",
              "    }\n",
              "\n",
              "    .dataframe tbody tr th {\n",
              "        vertical-align: top;\n",
              "    }\n",
              "\n",
              "    .dataframe thead th {\n",
              "        text-align: right;\n",
              "    }\n",
              "</style>\n",
              "<table border=\"1\" class=\"dataframe\">\n",
              "  <thead>\n",
              "    <tr style=\"text-align: right;\">\n",
              "      <th></th>\n",
              "      <th>Exam 1 score</th>\n",
              "      <th>Exam 2 score</th>\n",
              "      <th>Admitted</th>\n",
              "    </tr>\n",
              "  </thead>\n",
              "  <tbody>\n",
              "    <tr>\n",
              "      <th>count</th>\n",
              "      <td>100.000000</td>\n",
              "      <td>100.000000</td>\n",
              "      <td>100.000000</td>\n",
              "    </tr>\n",
              "    <tr>\n",
              "      <th>mean</th>\n",
              "      <td>65.644274</td>\n",
              "      <td>66.221998</td>\n",
              "      <td>0.600000</td>\n",
              "    </tr>\n",
              "    <tr>\n",
              "      <th>std</th>\n",
              "      <td>19.458222</td>\n",
              "      <td>18.582783</td>\n",
              "      <td>0.492366</td>\n",
              "    </tr>\n",
              "    <tr>\n",
              "      <th>min</th>\n",
              "      <td>30.058822</td>\n",
              "      <td>30.603263</td>\n",
              "      <td>0.000000</td>\n",
              "    </tr>\n",
              "    <tr>\n",
              "      <th>25%</th>\n",
              "      <td>50.919511</td>\n",
              "      <td>48.179205</td>\n",
              "      <td>0.000000</td>\n",
              "    </tr>\n",
              "    <tr>\n",
              "      <th>50%</th>\n",
              "      <td>67.032988</td>\n",
              "      <td>67.682381</td>\n",
              "      <td>1.000000</td>\n",
              "    </tr>\n",
              "    <tr>\n",
              "      <th>75%</th>\n",
              "      <td>80.212529</td>\n",
              "      <td>79.360605</td>\n",
              "      <td>1.000000</td>\n",
              "    </tr>\n",
              "    <tr>\n",
              "      <th>max</th>\n",
              "      <td>99.827858</td>\n",
              "      <td>98.869436</td>\n",
              "      <td>1.000000</td>\n",
              "    </tr>\n",
              "  </tbody>\n",
              "</table>\n",
              "</div>"
            ],
            "text/plain": [
              "       Exam 1 score  Exam 2 score    Admitted\n",
              "count    100.000000    100.000000  100.000000\n",
              "mean      65.644274     66.221998    0.600000\n",
              "std       19.458222     18.582783    0.492366\n",
              "min       30.058822     30.603263    0.000000\n",
              "25%       50.919511     48.179205    0.000000\n",
              "50%       67.032988     67.682381    1.000000\n",
              "75%       80.212529     79.360605    1.000000\n",
              "max       99.827858     98.869436    1.000000"
            ]
          },
          "metadata": {
            "tags": []
          },
          "execution_count": 41
        }
      ]
    },
    {
      "cell_type": "markdown",
      "metadata": {
        "id": "G0I8zEy-_Rcp",
        "colab_type": "text"
      },
      "source": [
        "Plot data"
      ]
    },
    {
      "cell_type": "code",
      "metadata": {
        "id": "LHFDPUzn_TFW",
        "colab_type": "code",
        "colab": {
          "base_uri": "https://localhost:8080/",
          "height": 279
        },
        "outputId": "73766676-3bda-4a69-f676-c18308721742"
      },
      "source": [
        "sns.scatterplot(x=\"Exam 1 score\", y=\"Exam 2 score\", hue=\"Admitted\", data=data);"
      ],
      "execution_count": null,
      "outputs": [
        {
          "output_type": "display_data",
          "data": {
            "image/png": "[encoded data removed]",
            "text/plain": [
              "<Figure size 432x288 with 1 Axes>"
            ]
          },
          "metadata": {
            "tags": [],
            "needs_background": "light"
          }
        }
      ]
    },
    {
      "cell_type": "markdown",
      "metadata": {
        "id": "zIh554M8BUcv",
        "colab_type": "text"
      },
      "source": [
        "# Logistic Regression Optimisation Functions"
      ]
    },
    {
      "cell_type": "markdown",
      "metadata": {
        "id": "GDwBqRxeNTPD",
        "colab_type": "text"
      },
      "source": [
        "\n",
        "Define cost and gradient optimisation functions"
      ]
    },
    {
      "cell_type": "code",
      "metadata": {
        "id": "McvQmDOHBiIe",
        "colab_type": "code",
        "colab": {}
      },
      "source": [
        "# sigmoid(z)\n",
        "# sigmoid function 1 / (1 + e^-z)\n",
        "#\n",
        "def sigmoid(z):\n",
        "\n",
        "  g = np.power(np.exp(-z) + 1, -1);\n",
        "\n",
        "  return g\n",
        "\n",
        "# computeHypothesis(X, theta)\n",
        "# Compute hypothesis for logistic regression\n",
        "#\n",
        "def computeHypothesis(X, theta):\n",
        "  #print(\"Size X: \", X.shape, \" theta: \", theta.shape)\n",
        "\n",
        "  # number of training examples\n",
        "  m = X.shape[0];\n",
        "\n",
        "  # boundary\n",
        "  z = X * theta;\n",
        "\n",
        "  # hypothesis\n",
        "  h = sigmoid(z);\n",
        "\n",
        "  return h;\n",
        "\n",
        "# computeCost(X, y, theta)\n",
        "# Compute cost for linear regression\n",
        "#\n",
        "# Computes the cost of using theta as the parameter for linear regression to fit the data points in X and y\n",
        "def computeCost(X, y, theta):\n",
        "  #print(\"Size X: \", X.shape, \" y: \", y.shape, \" theta: \", theta.shape)\n",
        "\n",
        "  # number of training examples\n",
        "  m = y.shape[0];\n",
        "\n",
        "  # hypothesis\n",
        "  h = computeHypothesis(X, theta);\n",
        "\n",
        "  # cost matrix\n",
        "  J_matrix = np.multiply(np.log(h), -y) - np.multiply(np.log(-h + 1), -y + 1);\n",
        "\n",
        "  # cost\n",
        "  J = np.sum(J_matrix)*(1/m);\n",
        "\n",
        "  return J\n",
        "\n",
        "# computeGradient(X, y, theta)\n",
        "# Compute gradient for logistic regression\n",
        "#\n",
        "# Computes the gradient using theta as the parameter for logistic regression to fit the data points in X and y\n",
        "def computeGradient(X, y, theta):\n",
        "  #print(\"Size X: \", X.shape, \" y: \", y.shape, \" theta: \", theta.shape)\n",
        "\n",
        "  # number of training examples\n",
        "  m = y.shape[0];\n",
        "\n",
        "  # hypothesis\n",
        "  h = computeHypothesis(X, theta);\n",
        "\n",
        "  # hypothesis error\n",
        "  h_error = h - y;\n",
        "  h_error_normalised = np.tile(h_error, (1, X.shape[1]));\n",
        "\n",
        "  #gradient\n",
        "  grad = np.multiply(h_error_normalised, X).sum(axis=0).T * (1/m);\n",
        "\n",
        "  return grad\n",
        "\n",
        "# cost function for use with fmin_tnc\n",
        "def costFunction(theta_array, X, Y):\n",
        "\n",
        "  # convert 1D array to vector\n",
        "  theta = theta_array.reshape(-1, 1);\n",
        "\n",
        "  # number of training examples\n",
        "  m = y.shape[0];\n",
        "\n",
        "  # hypothesis\n",
        "  h = sigmoid(X*theta)\n",
        "\n",
        "  # cost matrix\n",
        "  J_matrix = np.multiply(np.log(h), -y) - np.multiply(np.log(-h + 1), -y + 1);\n",
        "\n",
        "  # cost\n",
        "  J = np.sum(J_matrix)*(1/m);\n",
        "\n",
        "  # hypothesis error\n",
        "  h_error = h - y;\n",
        "  h_error_normalised = np.tile(h_error, (1, X.shape[1]));\n",
        "\n",
        "  #gradient\n",
        "  #IMPORTANT Note, fmin_tnc expects gradient to be array rather than vector.\n",
        "  grad_vector = np.multiply(h_error_normalised, X).sum(axis=0).T * (1/m);\n",
        "  grad = grad_vector.flatten();\n",
        "\n",
        "  return (J, grad);\n",
        "\n",
        "\n",
        "# gradientDescent(X, y, theta, alpha, iters)\n",
        "# Performs gradient descent to learn theta\n",
        "#\n",
        "# Updates theta by taking iters gradient steps with learning rate alpha\n",
        "def gradientDescent(X, y, theta, alpha, iters):\n",
        "\n",
        "  # number of training examples\n",
        "  m = y.shape[0];\n",
        "\n",
        "  cost = np.zeros(iters);\n",
        "\n",
        "  for i in range(iters):\n",
        "    ## hypothesis\n",
        "    #h = computeHypothesis(X, theta);\n",
        "    #\n",
        "    ## hypothesis error\n",
        "    #h_error = h - y;\n",
        "    #h_error_normalised = np.tile(h_error, (1, X.shape[1]));\n",
        "    #\n",
        "    ##gradient\n",
        "    #grad = np.multiply(h_error_normalised, X).sum(axis=0).T * (1/m);\n",
        "    ##temp1 = np.multiply(h_error_normalised, X);\n",
        "    ##temp2 = temp1.sum(axis=0);\n",
        "    ##grad = temp2.T * (1/m);\n",
        "    \n",
        "    #gradient\n",
        "    grad = computeGradient(X, y, theta);\n",
        "\n",
        "    #calculate new theta\n",
        "    theta = theta - (grad * alpha);\n",
        "\n",
        "    cost[i] = computeCost(X, y, theta);\n",
        "  \n",
        "  return theta, cost\n"
      ],
      "execution_count": null,
      "outputs": []
    },
    {
      "cell_type": "markdown",
      "metadata": {
        "id": "35ndfpWPN4z8",
        "colab_type": "text"
      },
      "source": [
        "Test sigmoid function"
      ]
    },
    {
      "cell_type": "code",
      "metadata": {
        "id": "gn-GEDeON7an",
        "colab_type": "code",
        "colab": {
          "base_uri": "https://localhost:8080/",
          "height": 68
        },
        "outputId": "f7576804-9d99-4bb9-cd0b-0de95008099d"
      },
      "source": [
        "xhigh = sigmoid(100);\n",
        "xlow = sigmoid(-100);\n",
        "xzero = sigmoid(0);\n",
        "xpass = sigmoid(1);\n",
        "print(\"sigmoid high: {:0.6f}, low: {:0.6f}, zero: {}, pass: {:0.6f}\".format(xhigh, xlow, xzero, xpass));\n",
        "\n",
        "X_test = np.matrix([[100],[-100],[0],[1]]);\n",
        "\n",
        "sigmoid_result = sigmoid(X_test);\n",
        "print(\"sigmoid matrix high: {:0.6f}, low: {:0.6f}, zero: {}, pass: {:0.6f}\".format(sigmoid_result[0,0], sigmoid_result[1,0], sigmoid_result[2,0], sigmoid_result[3,0]));\n",
        "\n",
        "y_test = np.matrix([[1],[0],[0],[1]]);\n",
        "theta_test = np.matrix(np.zeros((X_test.shape[1], 1), dtype=int))\n",
        "\n",
        "cost_test = computeCost(X_test, y_test, theta_test);\n",
        "print(\"cost: {:0.6f}\".format(cost_test));\n"
      ],
      "execution_count": null,
      "outputs": [
        {
          "output_type": "stream",
          "text": [
            "sigmoid high: 1.000000, low: 0.000000, zero: 0.5, pass: 0.731059\n",
            "sigmoid matrix high: 1.000000, low: 0.000000, zero: 0.5, pass: 0.731059\n",
            "cost: 0.693147\n"
          ],
          "name": "stdout"
        }
      ]
    },
    {
      "cell_type": "markdown",
      "metadata": {
        "id": "Gm5C5FCmNMAO",
        "colab_type": "text"
      },
      "source": [
        "Prepare and describe data matrices"
      ]
    },
    {
      "cell_type": "code",
      "metadata": {
        "id": "fVX6tx9dEMAi",
        "colab_type": "code",
        "colab": {
          "base_uri": "https://localhost:8080/",
          "height": 34
        },
        "outputId": "670d5324-9977-4a3d-afb3-554a47db4d1b"
      },
      "source": [
        "# set X (training data) and y (target variable)\n",
        "cols = data.shape[1]\n",
        "X = data.iloc[:,0:cols-1]\n",
        "y = data.iloc[:,cols-1:cols]\n",
        "\n",
        "# append a ones column to the front of the feature matrix to support the theta0 constant parameter\n",
        "X.insert(0, 'Ones', 1)\n",
        "\n",
        "# convert from data frames to numpy matrices\n",
        "X = np.matrix(X.values)\n",
        "y = np.matrix(y.values)\n",
        "\n",
        "# set theta parameters to zero vector with rows equal to number of features + 1\n",
        "# (including the theta0 constant parameter), e.g. rows equal to columns in X\n",
        "theta = np.matrix(np.zeros((X.shape[1], 1), dtype=int))\n",
        "\n",
        "print(\"X: \", X.shape, \" y: \", y.shape, \" theta: \", theta.shape)"
      ],
      "execution_count": null,
      "outputs": [
        {
          "output_type": "stream",
          "text": [
            "X:  (100, 3)  y:  (100, 1)  theta:  (3, 1)\n"
          ],
          "name": "stdout"
        }
      ]
    },
    {
      "cell_type": "markdown",
      "metadata": {
        "id": "qt7IChlalD14",
        "colab_type": "text"
      },
      "source": [
        "# Run optimisation"
      ]
    },
    {
      "cell_type": "markdown",
      "metadata": {
        "id": "2aY0Uo2XPsmN",
        "colab_type": "text"
      },
      "source": [
        "## Configuration 1\n",
        "\n",
        "```\n",
        "theta = [0, 0, 0]\n",
        "```\n",
        "\n",
        "\n"
      ]
    },
    {
      "cell_type": "code",
      "metadata": {
        "id": "16Fo15JwQzuW",
        "colab_type": "code",
        "colab": {
          "base_uri": "https://localhost:8080/",
          "height": 136
        },
        "outputId": "e90247e7-f7ea-4bc5-9ce9-a7b3d9a35d3f"
      },
      "source": [
        "# initialise theta to [0, 0, 0]\n",
        "theta_initial = np.matrix(np.zeros((X.shape[1], 1), dtype=int));\n",
        "\n",
        "#cost = computeCost(X, y, theta_initial);\n",
        "#grad = computeGradient(X, y, theta_initial);\n",
        "(cost, grad) = costFunction(theta_initial, X, y)\n",
        "\n",
        "with np.printoptions(precision=6, suppress=True):\n",
        "  print(\"Initial theta:\\n\", theta_initial, \"\\ncost: \", \"{:0.6f}\".format(cost), \"\\ngradient:\\n\", grad);"
      ],
      "execution_count": null,
      "outputs": [
        {
          "output_type": "stream",
          "text": [
            "Initial theta:\n",
            " [[0]\n",
            " [0]\n",
            " [0]] \n",
            "cost:  0.693147 \n",
            "gradient:\n",
            " [[ -0.1      -12.009217 -11.262842]]\n"
          ],
          "name": "stdout"
        }
      ]
    },
    {
      "cell_type": "code",
      "metadata": {
        "colab_type": "code",
        "id": "WDfqi8HBheie",
        "colab": {
          "base_uri": "https://localhost:8080/",
          "height": 102
        },
        "outputId": "06266046-2ce7-4a28-befb-cb7c19b5ad21"
      },
      "source": [
        "# perform tnc optimisation to \"fit\" the model parameters\n",
        "import scipy.optimize as opt\n",
        "\n",
        "theta_initial = np.matrix(np.zeros((1, X.shape[1]), dtype=int));\n",
        "\n",
        "# The x0 parameter is the initial guess so I will set that to initial_theta.\n",
        "result = opt.fmin_tnc(func=costFunction, x0=theta_initial, args=(X, y))\n",
        "\n",
        "theta_optimised = result[0]\n",
        "(cost, grad) = costFunction(theta_optimised, X, y)\n",
        "\n",
        "with np.printoptions(precision=6, suppress=True):\n",
        "  print(\"Optimised theta:\\n\", theta_optimised, \"\\ncost: \", \"{:0.6f}\".format(cost), \"\\ngradient:\\n\", grad);"
      ],
      "execution_count": null,
      "outputs": [
        {
          "output_type": "stream",
          "text": [
            "Optimised theta:\n",
            " [-25.161319   0.206232   0.201471] \n",
            "cost:  0.203498 \n",
            "gradient:\n",
            " [[0. 0. 0.]]\n"
          ],
          "name": "stdout"
        }
      ]
    },
    {
      "cell_type": "markdown",
      "metadata": {
        "id": "4RlmD2Y2jbjh",
        "colab_type": "text"
      },
      "source": [
        "Plot prediction"
      ]
    },
    {
      "cell_type": "code",
      "metadata": {
        "id": "-CoTTWNbjedL",
        "colab_type": "code",
        "colab": {}
      },
      "source": [
        "#TODO"
      ],
      "execution_count": null,
      "outputs": []
    },
    {
      "cell_type": "markdown",
      "metadata": {
        "id": "2k1xEayBkOS6",
        "colab_type": "text"
      },
      "source": [
        "Plot error"
      ]
    },
    {
      "cell_type": "code",
      "metadata": {
        "colab_type": "code",
        "id": "PPzjZdbZHxmV",
        "colab": {}
      },
      "source": [
        "#TODO"
      ],
      "execution_count": null,
      "outputs": []
    },
    {
      "cell_type": "markdown",
      "metadata": {
        "colab_type": "text",
        "id": "ac9hDzTcGMb5"
      },
      "source": [
        "## Configuration 2\n",
        "\n",
        "```\n",
        "theta = [-24, 0.2, 0.2]\n",
        "```\n",
        "\n",
        "\n"
      ]
    },
    {
      "cell_type": "code",
      "metadata": {
        "colab_type": "code",
        "id": "j671hgyvGMb8",
        "colab": {
          "base_uri": "https://localhost:8080/",
          "height": 136
        },
        "outputId": "662dd12f-44bf-4a99-99a7-3d78fa360cba"
      },
      "source": [
        "# initialise theta to [-24,0.2,0.2]\n",
        "theta_initial = np.matrix([[-24],[0.2],[0.2]]);\n",
        "\n",
        "#cost = computeCost(X, y, theta_initial);\n",
        "#grad = computeGradient(X, y, theta_initial);\n",
        "(cost, grad) = costFunction(theta_initial, X, y)\n",
        "\n",
        "with np.printoptions(precision=6, suppress=True):\n",
        "  print(\"Initial theta:\\n\", theta_initial, \"\\ncost: \", \"{:0.6f}\".format(cost), \"\\ngradient:\\n\", grad);"
      ],
      "execution_count": null,
      "outputs": [
        {
          "output_type": "stream",
          "text": [
            "Initial theta:\n",
            " [[-24. ]\n",
            " [  0.2]\n",
            " [  0.2]] \n",
            "cost:  0.218330 \n",
            "gradient:\n",
            " [[0.042903 2.566234 2.646797]]\n"
          ],
          "name": "stdout"
        }
      ]
    },
    {
      "cell_type": "code",
      "metadata": {
        "colab_type": "code",
        "id": "rH5ldVbE4dss",
        "colab": {
          "base_uri": "https://localhost:8080/",
          "height": 102
        },
        "outputId": "36448a50-7340-4804-f835-d64d3943dceb"
      },
      "source": [
        "# perform tnc optimisation to \"fit\" the model parameters\n",
        "import scipy.optimize as opt\n",
        "\n",
        "theta_initial = np.matrix(np.zeros((1, X.shape[1]), dtype=int));\n",
        "\n",
        "# The x0 parameter is the initial guess so I will set that to initial_theta.\n",
        "result = opt.fmin_tnc(func=costFunction, x0=theta_initial, args=(X, y))\n",
        "\n",
        "theta_optimised = result[0]\n",
        "(cost, grad) = costFunction(theta_optimised, X, y)\n",
        "\n",
        "with np.printoptions(precision=6, suppress=True):\n",
        "  print(\"Optimised theta:\\n\", theta_optimised, \"\\ncost: \", \"{:0.6f}\".format(cost), \"\\ngradient:\\n\", grad);"
      ],
      "execution_count": null,
      "outputs": [
        {
          "output_type": "stream",
          "text": [
            "Optimised theta:\n",
            " [-25.161319   0.206232   0.201471] \n",
            "cost:  0.203498 \n",
            "gradient:\n",
            " [[0. 0. 0.]]\n"
          ],
          "name": "stdout"
        }
      ]
    },
    {
      "cell_type": "markdown",
      "metadata": {
        "colab_type": "text",
        "id": "7GvebF8nGMcH"
      },
      "source": [
        "Plot prediction"
      ]
    },
    {
      "cell_type": "code",
      "metadata": {
        "colab_type": "code",
        "id": "TpGrWzR7Hzfv",
        "colab": {}
      },
      "source": [
        "#TODO"
      ],
      "execution_count": null,
      "outputs": []
    },
    {
      "cell_type": "markdown",
      "metadata": {
        "colab_type": "text",
        "id": "LT4zn9NjGMcI"
      },
      "source": [
        "Plot error"
      ]
    },
    {
      "cell_type": "code",
      "metadata": {
        "colab_type": "code",
        "id": "XxWeGje1H0B9",
        "colab": {}
      },
      "source": [
        "#TODO"
      ],
      "execution_count": null,
      "outputs": []
    }
  ]
}